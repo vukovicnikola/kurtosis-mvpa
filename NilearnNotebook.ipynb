{
 "cells": [
  {
   "cell_type": "code",
   "execution_count": 1,
   "metadata": {
    "collapsed": false
   },
   "outputs": [
    {
     "name": "stdout",
     "output_type": "stream",
     "text": [
      "['INPUT/KURTOSIS_DKITOOLSFULL_MD/3_KURTOSIS_DKITOOLSFULL_MD_day2change.nii'\n",
      " 'INPUT/KURTOSIS_DKITOOLSFULL_MD/4_KURTOSIS_DKITOOLSFULL_MD_day2change.nii'\n",
      " 'INPUT/KURTOSIS_DKITOOLSFULL_MD/5_KURTOSIS_DKITOOLSFULL_MD_day2change.nii'\n",
      " 'INPUT/KURTOSIS_DKITOOLSFULL_MD/8_KURTOSIS_DKITOOLSFULL_MD_day2change.nii'\n",
      " 'INPUT/KURTOSIS_DKITOOLSFULL_MD/9_KURTOSIS_DKITOOLSFULL_MD_day2change.nii'\n",
      " 'INPUT/KURTOSIS_DKITOOLSFULL_MD/10_KURTOSIS_DKITOOLSFULL_MD_day2change.nii'\n",
      " 'INPUT/KURTOSIS_DKITOOLSFULL_MD/11_KURTOSIS_DKITOOLSFULL_MD_day2change.nii'\n",
      " 'INPUT/KURTOSIS_DKITOOLSFULL_MD/12_KURTOSIS_DKITOOLSFULL_MD_day2change.nii'\n",
      " 'INPUT/KURTOSIS_DKITOOLSFULL_MD/13_KURTOSIS_DKITOOLSFULL_MD_day2change.nii'\n",
      " 'INPUT/KURTOSIS_DKITOOLSFULL_MD/14_KURTOSIS_DKITOOLSFULL_MD_day2change.nii'\n",
      " 'INPUT/KURTOSIS_DKITOOLSFULL_MD/15_KURTOSIS_DKITOOLSFULL_MD_day2change.nii'\n",
      " 'INPUT/KURTOSIS_DKITOOLSFULL_MD/16_KURTOSIS_DKITOOLSFULL_MD_day2change.nii'\n",
      " 'INPUT/KURTOSIS_DKITOOLSFULL_MD/17_KURTOSIS_DKITOOLSFULL_MD_day2change.nii'\n",
      " 'INPUT/KURTOSIS_DKITOOLSFULL_MD/19_KURTOSIS_DKITOOLSFULL_MD_day2change.nii'\n",
      " 'INPUT/KURTOSIS_DKITOOLSFULL_MD/20_KURTOSIS_DKITOOLSFULL_MD_day2change.nii'\n",
      " 'INPUT/KURTOSIS_DKITOOLSFULL_MD/21_KURTOSIS_DKITOOLSFULL_MD_day2change.nii'\n",
      " 'INPUT/KURTOSIS_DKITOOLSFULL_MD/22_KURTOSIS_DKITOOLSFULL_MD_day2change.nii'\n",
      " 'INPUT/KURTOSIS_DKITOOLSFULL_MD/23_KURTOSIS_DKITOOLSFULL_MD_day2change.nii'\n",
      " 'INPUT/KURTOSIS_DKITOOLSFULL_MD/24_KURTOSIS_DKITOOLSFULL_MD_day2change.nii'\n",
      " 'INPUT/KURTOSIS_DKITOOLSFULL_MD/29_KURTOSIS_DKITOOLSFULL_MD_day2change.nii'\n",
      " 'INPUT/KURTOSIS_DKITOOLSFULL_MD/30_KURTOSIS_DKITOOLSFULL_MD_day2change.nii'\n",
      " 'INPUT/KURTOSIS_DKITOOLSFULL_MD/31_KURTOSIS_DKITOOLSFULL_MD_day2change.nii'\n",
      " 'INPUT/KURTOSIS_DKITOOLSFULL_MD/32_KURTOSIS_DKITOOLSFULL_MD_day2change.nii'\n",
      " 'INPUT/KURTOSIS_DKITOOLSFULL_MD/33_KURTOSIS_DKITOOLSFULL_MD_day2change.nii'\n",
      " 'INPUT/KURTOSIS_DKITOOLSFULL_MD/34_KURTOSIS_DKITOOLSFULL_MD_day2change.nii'\n",
      " 'INPUT/KURTOSIS_DKITOOLSFULL_MD/35_KURTOSIS_DKITOOLSFULL_MD_day2change.nii'\n",
      " 'INPUT/KURTOSIS_DKITOOLSFULL_MD/36_KURTOSIS_DKITOOLSFULL_MD_day2change.nii'\n",
      " 'INPUT/KURTOSIS_DKITOOLSFULL_MD/37_KURTOSIS_DKITOOLSFULL_MD_day2change.nii'\n",
      " 'INPUT/KURTOSIS_DKITOOLSFULL_MD/38_KURTOSIS_DKITOOLSFULL_MD_day2change.nii'\n",
      " 'INPUT/KURTOSIS_DKITOOLSFULL_MD/42_KURTOSIS_DKITOOLSFULL_MD_day2change.nii'\n",
      " 'INPUT/KURTOSIS_DKITOOLSFULL_MD/43_KURTOSIS_DKITOOLSFULL_MD_day2change.nii'\n",
      " 'INPUT/KURTOSIS_DKITOOLSFULL_MD/44_KURTOSIS_DKITOOLSFULL_MD_day2change.nii'\n",
      " 'INPUT/KURTOSIS_DKITOOLSFULL_MD/45_KURTOSIS_DKITOOLSFULL_MD_day2change.nii'\n",
      " 'INPUT/KURTOSIS_DKITOOLSFULL_MD/46_KURTOSIS_DKITOOLSFULL_MD_day2change.nii'\n",
      " 'INPUT/KURTOSIS_DKITOOLSFULL_MD/47_KURTOSIS_DKITOOLSFULL_MD_day2change.nii'\n",
      " 'INPUT/KURTOSIS_DKITOOLSFULL_MD/48_KURTOSIS_DKITOOLSFULL_MD_day2change.nii'\n",
      " 'INPUT/KURTOSIS_DKITOOLSFULL_MD/64_KURTOSIS_DKITOOLSFULL_MD_day2change.nii'\n",
      " 'INPUT/KURTOSIS_DKITOOLSFULL_MD/65_KURTOSIS_DKITOOLSFULL_MD_day2change.nii'\n",
      " 'INPUT/KURTOSIS_DKITOOLSFULL_MD/66_KURTOSIS_DKITOOLSFULL_MD_day2change.nii'\n",
      " 'INPUT/KURTOSIS_DKITOOLSFULL_MD/67_KURTOSIS_DKITOOLSFULL_MD_day2change.nii'\n",
      " 'INPUT/KURTOSIS_DKITOOLSFULL_MD/68_KURTOSIS_DKITOOLSFULL_MD_day2change.nii'\n",
      " 'INPUT/KURTOSIS_DKITOOLSFULL_MD/69_KURTOSIS_DKITOOLSFULL_MD_day2change.nii'\n",
      " 'INPUT/KURTOSIS_DKITOOLSFULL_MD/70_KURTOSIS_DKITOOLSFULL_MD_day2change.nii']\n",
      "43\n",
      "[1 1 1 1 1 1 1 1 2 2 2 2 2 2 1 2 2 2 2 2 1 1 2 2 2 2 1 1 2 1 2 2 1 1 1 2 1\n",
      " 1 1 1 1 1 2]\n",
      "43\n"
     ]
    }
   ],
   "source": [
    "import numpy as np\n",
    "import pandas as pd\n",
    "\n",
    "inputdata = pd.read_csv(\"MDinfo.csv\").query('day==2 & tms!=3') # get study info, for day 1 & groups 1 & 2\n",
    "images = np.array(inputdata['image']) # get array of .nii files from image column\n",
    "group = np.array(inputdata['tms']) # get array of subject group indices (1=M1,2=SPL)\n",
    "\n",
    "print(images)\n",
    "print(images.size)\n",
    "print(group)\n",
    "print(group.size)"
   ]
  },
  {
   "cell_type": "code",
   "execution_count": 2,
   "metadata": {
    "collapsed": false
   },
   "outputs": [
    {
     "name": "stderr",
     "output_type": "stream",
     "text": [
      "/Users/Nikola/anaconda/envs/mne/lib/python3.5/site-packages/sklearn/cross_validation.py:41: DeprecationWarning: This module was deprecated in version 0.18 in favor of the model_selection module into which all the refactored classes and functions are moved. Also note that the interface of the new CV iterators are different from that of this module. This module will be removed in 0.20.\n",
      "  \"This module will be removed in 0.20.\", DeprecationWarning)\n"
     ]
    }
   ],
   "source": [
    "# Split data into training set and test set\n",
    "from sklearn.utils import check_random_state\n",
    "from sklearn.cross_validation import train_test_split\n",
    "\n",
    "rng = check_random_state(42)\n",
    "images_train, images_test, group_train, group_test = train_test_split(images, group, train_size=.7, random_state=rng)\n",
    "\n",
    "# Sort test data for better visualization\n",
    "perm = np.argsort(group_test)\n",
    "group_test = group_test[perm]\n",
    "images_test = images_test[perm]"
   ]
  },
  {
   "cell_type": "code",
   "execution_count": null,
   "metadata": {
    "collapsed": false,
    "scrolled": true
   },
   "outputs": [
    {
     "name": "stdout",
     "output_type": "stream",
     "text": [
      "[NiftiMasker.fit] Loading data from [INPUT/KURTOSIS_DKITOOLSFULL_MD/29_KURTOSIS_DKITOOLSFULL_MD_day2change.nii, INPUT/KURTOSIS_DKITOOLSFULL_MD/23_KURTOSIS_DKITOOLSFULL_MD_day2change.nii, INPUT/KURTOSIS_DKITOOLSFULL_MD/19_KURTOSIS_DKITOO\n",
      "[NiftiMasker.fit] Computing the mask\n",
      "[NiftiMasker.fit] Resampling mask\n",
      "[NiftiMasker.transform_single_imgs] Loading data from Nifti1Image(\n",
      "shape=(79, 95, 79, 30),\n",
      "affine=array([[  -2.,    0.,    0.,   78.],\n",
      "       [   0.,    2.,    0., -112.],\n",
      "       [   0.,    0.,    2.,  -70.],\n",
      "       [   0.,    0.,    0.,    1.]])\n",
      ")\n",
      "[NiftiMasker.transform_single_imgs] Extracting region signals\n",
      "[NiftiMasker.transform_single_imgs] Cleaning extracted signals\n"
     ]
    },
    {
     "name": "stderr",
     "output_type": "stream",
     "text": [
      "/Users/Nikola/.local/lib/python3.5/site-packages/nilearn/decoding/space_net.py:796: UserWarning: Brain mask is bigger than the volume of a standard human brain. This object is probably not tuned to be used on such data.\n",
      "  self.screening_percentile, self.mask_img_, verbose=self.verbose)\n"
     ]
    },
    {
     "name": "stdout",
     "output_type": "stream",
     "text": [
      "________________________________________________________________________________\n",
      "[Memory] Calling nilearn.decoding.space_net.path_scores...\n",
      "path_scores(functools.partial(<function tvl1_solver at 0x11827b268>, loss='logistic'), array([[ 0.185695, ..., -0.185695],\n",
      "       ..., \n",
      "       [ 0.185695, ..., -0.185695]]), \n",
      "array([ 1,  1,  1, -1,  1,  1,  1,  1, -1, -1, -1, -1, -1,  1, -1, -1,  1,\n",
      "       -1, -1, -1,  1,  1,  1,  1,  1, -1, -1, -1,  1, -1]), \n",
      "array([[[False, ..., False],\n",
      "        ..., \n",
      "        [False, ..., False]],\n",
      "\n",
      "       ..., \n",
      "       [[False, ..., False],\n",
      "        ..., \n",
      "        [False, ..., False]]], dtype=bool), \n",
      "None, [0.5], array([ 2,  4,  5,  6,  7,  9, 10, 11, 12, 13, 14, 15, 16, 17, 18, 19, 20,\n",
      "       21, 22, 23, 24, 25, 26, 27, 28, 29]), \n",
      "array([0, 1, 3, 8]), {'max_iter': 1000, 'tol': 0.0001}, is_classif=True, debias=False, eps=0.001, screening_percentile=11.41809931113089, n_alphas=10, key=(0, 0), verbose=1)\n"
     ]
    },
    {
     "name": "stderr",
     "output_type": "stream",
     "text": [
      "/Users/Nikola/anaconda/envs/mne/lib/python3.5/site-packages/sklearn/utils/deprecation.py:75: DeprecationWarning: Function center_data is deprecated; center_data was deprecated in version 0.18 and will be removed in 0.20. Use utilities in preprocessing.data instead\n",
      "  warnings.warn(msg, category=DeprecationWarning)\n",
      ".........."
     ]
    },
    {
     "name": "stdout",
     "output_type": "stream",
     "text": [
      "__________________________________________________path_scores - 1415.7s, 23.6min\n"
     ]
    },
    {
     "name": "stderr",
     "output_type": "stream",
     "text": [
      "[Parallel(n_jobs=1)]: Done   1 out of   1 | elapsed: 23.6min remaining:    0.0s\n"
     ]
    },
    {
     "name": "stdout",
     "output_type": "stream",
     "text": [
      "________________________________________________________________________________\n",
      "[Memory] Calling nilearn.decoding.space_net.path_scores...\n",
      "path_scores(functools.partial(<function tvl1_solver at 0x11827b268>, loss='logistic'), array([[ 0.185695, ..., -0.185695],\n",
      "       ..., \n",
      "       [ 0.185695, ..., -0.185695]]), \n",
      "array([ 1,  1,  1, -1,  1,  1,  1,  1, -1, -1, -1, -1, -1,  1, -1, -1,  1,\n",
      "       -1, -1, -1,  1,  1,  1,  1,  1, -1, -1, -1,  1, -1]), \n",
      "array([[[False, ..., False],\n",
      "        ..., \n",
      "        [False, ..., False]],\n",
      "\n",
      "       ..., \n",
      "       [[False, ..., False],\n",
      "        ..., \n",
      "        [False, ..., False]]], dtype=bool), \n",
      "None, [0.5], array([ 0,  1,  3,  5,  6,  7,  8, 11, 12, 13, 14, 15, 16, 17, 18, 19, 20,\n",
      "       21, 22, 23, 24, 25, 26, 27, 28, 29]), \n",
      "array([ 2,  4,  9, 10]), {'max_iter': 1000, 'tol': 0.0001}, is_classif=True, debias=False, eps=0.001, screening_percentile=11.41809931113089, n_alphas=10, key=(0, 1), verbose=1)\n"
     ]
    },
    {
     "name": "stderr",
     "output_type": "stream",
     "text": [
      "/Users/Nikola/anaconda/envs/mne/lib/python3.5/site-packages/sklearn/utils/deprecation.py:75: DeprecationWarning: Function center_data is deprecated; center_data was deprecated in version 0.18 and will be removed in 0.20. Use utilities in preprocessing.data instead\n",
      "  warnings.warn(msg, category=DeprecationWarning)\n",
      "........"
     ]
    },
    {
     "name": "stdout",
     "output_type": "stream",
     "text": [
      "____________________________________________________path_scores - 333.0s, 5.5min\n",
      "________________________________________________________________________________\n",
      "[Memory] Calling nilearn.decoding.space_net.path_scores...\n",
      "path_scores(functools.partial(<function tvl1_solver at 0x11827b268>, loss='logistic'), array([[ 0.185695, ..., -0.185695],\n",
      "       ..., \n",
      "       [ 0.185695, ..., -0.185695]]), \n",
      "array([ 1,  1,  1, -1,  1,  1,  1,  1, -1, -1, -1, -1, -1,  1, -1, -1,  1,\n",
      "       -1, -1, -1,  1,  1,  1,  1,  1, -1, -1, -1,  1, -1]), \n",
      "array([[[False, ..., False],\n",
      "        ..., \n",
      "        [False, ..., False]],\n",
      "\n",
      "       ..., \n",
      "       [[False, ..., False],\n",
      "        ..., \n",
      "        [False, ..., False]]], dtype=bool), \n",
      "None, [0.5], array([ 0,  1,  2,  3,  4,  7,  8,  9, 10, 13, 14, 15, 16, 17, 18, 19, 20,\n",
      "       21, 22, 23, 24, 25, 26, 27, 28, 29]), \n",
      "array([ 5,  6, 11, 12]), {'max_iter': 1000, 'tol': 0.0001}, is_classif=True, debias=False, eps=0.001, screening_percentile=11.41809931113089, n_alphas=10, key=(0, 2), verbose=1)\n"
     ]
    },
    {
     "name": "stderr",
     "output_type": "stream",
     "text": [
      "/Users/Nikola/anaconda/envs/mne/lib/python3.5/site-packages/sklearn/utils/deprecation.py:75: DeprecationWarning: Function center_data is deprecated; center_data was deprecated in version 0.18 and will be removed in 0.20. Use utilities in preprocessing.data instead\n",
      "  warnings.warn(msg, category=DeprecationWarning)\n",
      ".........."
     ]
    },
    {
     "name": "stdout",
     "output_type": "stream",
     "text": [
      "____________________________________________________path_scores - 217.2s, 3.6min\n",
      "________________________________________________________________________________\n",
      "[Memory] Calling nilearn.decoding.space_net.path_scores...\n",
      "path_scores(functools.partial(<function tvl1_solver at 0x11827b268>, loss='logistic'), array([[ 0.185695, ..., -0.185695],\n",
      "       ..., \n",
      "       [ 0.185695, ..., -0.185695]]), \n",
      "array([ 1,  1,  1, -1,  1,  1,  1,  1, -1, -1, -1, -1, -1,  1, -1, -1,  1,\n",
      "       -1, -1, -1,  1,  1,  1,  1,  1, -1, -1, -1,  1, -1]), \n",
      "array([[[False, ..., False],\n",
      "        ..., \n",
      "        [False, ..., False]],\n",
      "\n",
      "       ..., \n",
      "       [[False, ..., False],\n",
      "        ..., \n",
      "        [False, ..., False]]], dtype=bool), \n",
      "None, [0.5], array([ 0,  1,  2,  3,  4,  5,  6,  8,  9, 10, 11, 12, 16, 17, 18, 19, 20,\n",
      "       21, 22, 23, 24, 25, 26, 27, 28, 29]), \n",
      "array([ 7, 13, 14, 15]), {'max_iter': 1000, 'tol': 0.0001}, is_classif=True, debias=False, eps=0.001, screening_percentile=11.41809931113089, n_alphas=10, key=(0, 3), verbose=1)\n"
     ]
    },
    {
     "name": "stderr",
     "output_type": "stream",
     "text": [
      "/Users/Nikola/anaconda/envs/mne/lib/python3.5/site-packages/sklearn/utils/deprecation.py:75: DeprecationWarning: Function center_data is deprecated; center_data was deprecated in version 0.18 and will be removed in 0.20. Use utilities in preprocessing.data instead\n",
      "  warnings.warn(msg, category=DeprecationWarning)\n",
      "........."
     ]
    },
    {
     "name": "stdout",
     "output_type": "stream",
     "text": [
      "____________________________________________________path_scores - 343.5s, 5.7min\n",
      "________________________________________________________________________________\n",
      "[Memory] Calling nilearn.decoding.space_net.path_scores...\n",
      "path_scores(functools.partial(<function tvl1_solver at 0x11827b268>, loss='logistic'), array([[ 0.185695, ..., -0.185695],\n",
      "       ..., \n",
      "       [ 0.185695, ..., -0.185695]]), \n",
      "array([ 1,  1,  1, -1,  1,  1,  1,  1, -1, -1, -1, -1, -1,  1, -1, -1,  1,\n",
      "       -1, -1, -1,  1,  1,  1,  1,  1, -1, -1, -1,  1, -1]), \n",
      "array([[[False, ..., False],\n",
      "        ..., \n",
      "        [False, ..., False]],\n",
      "\n",
      "       ..., \n",
      "       [[False, ..., False],\n",
      "        ..., \n",
      "        [False, ..., False]]], dtype=bool), \n",
      "None, [0.5], array([ 0,  1,  2,  3,  4,  5,  6,  7,  8,  9, 10, 11, 12, 13, 14, 15, 19,\n",
      "       21, 22, 23, 24, 25, 26, 27, 28, 29]), \n",
      "array([16, 17, 18, 20]), {'max_iter': 1000, 'tol': 0.0001}, is_classif=True, debias=False, eps=0.001, screening_percentile=11.41809931113089, n_alphas=10, key=(0, 4), verbose=1)\n"
     ]
    },
    {
     "name": "stderr",
     "output_type": "stream",
     "text": [
      "/Users/Nikola/anaconda/envs/mne/lib/python3.5/site-packages/sklearn/utils/deprecation.py:75: DeprecationWarning: Function center_data is deprecated; center_data was deprecated in version 0.18 and will be removed in 0.20. Use utilities in preprocessing.data instead\n",
      "  warnings.warn(msg, category=DeprecationWarning)\n",
      ".........."
     ]
    },
    {
     "name": "stdout",
     "output_type": "stream",
     "text": [
      "____________________________________________________path_scores - 215.1s, 3.6min\n",
      "________________________________________________________________________________\n",
      "[Memory] Calling nilearn.decoding.space_net.path_scores...\n",
      "path_scores(functools.partial(<function tvl1_solver at 0x11827b268>, loss='logistic'), array([[ 0.185695, ..., -0.185695],\n",
      "       ..., \n",
      "       [ 0.185695, ..., -0.185695]]), \n",
      "array([ 1,  1,  1, -1,  1,  1,  1,  1, -1, -1, -1, -1, -1,  1, -1, -1,  1,\n",
      "       -1, -1, -1,  1,  1,  1,  1,  1, -1, -1, -1,  1, -1]), \n",
      "array([[[False, ..., False],\n",
      "        ..., \n",
      "        [False, ..., False]],\n",
      "\n",
      "       ..., \n",
      "       [[False, ..., False],\n",
      "        ..., \n",
      "        [False, ..., False]]], dtype=bool), \n",
      "None, [0.5], array([ 0,  1,  2,  3,  4,  5,  6,  7,  8,  9, 10, 11, 12, 13, 14, 15, 16,\n",
      "       17, 18, 20, 23, 24, 26, 27, 28, 29]), \n",
      "array([19, 21, 22, 25]), {'max_iter': 1000, 'tol': 0.0001}, is_classif=True, debias=False, eps=0.001, screening_percentile=11.41809931113089, n_alphas=10, key=(0, 5), verbose=1)\n"
     ]
    },
    {
     "name": "stderr",
     "output_type": "stream",
     "text": [
      "/Users/Nikola/anaconda/envs/mne/lib/python3.5/site-packages/sklearn/utils/deprecation.py:75: DeprecationWarning: Function center_data is deprecated; center_data was deprecated in version 0.18 and will be removed in 0.20. Use utilities in preprocessing.data instead\n",
      "  warnings.warn(msg, category=DeprecationWarning)\n",
      ".........."
     ]
    },
    {
     "name": "stdout",
     "output_type": "stream",
     "text": [
      "____________________________________________________path_scores - 354.3s, 5.9min\n",
      "________________________________________________________________________________\n",
      "[Memory] Calling nilearn.decoding.space_net.path_scores...\n",
      "path_scores(functools.partial(<function tvl1_solver at 0x11827b268>, loss='logistic'), array([[ 0.185695, ..., -0.185695],\n",
      "       ..., \n",
      "       [ 0.185695, ..., -0.185695]]), \n",
      "array([ 1,  1,  1, -1,  1,  1,  1,  1, -1, -1, -1, -1, -1,  1, -1, -1,  1,\n",
      "       -1, -1, -1,  1,  1,  1,  1,  1, -1, -1, -1,  1, -1]), \n",
      "array([[[False, ..., False],\n",
      "        ..., \n",
      "        [False, ..., False]],\n",
      "\n",
      "       ..., \n",
      "       [[False, ..., False],\n",
      "        ..., \n",
      "        [False, ..., False]]], dtype=bool), \n",
      "None, [0.5], array([ 0,  1,  2,  3,  4,  5,  6,  7,  8,  9, 10, 11, 12, 13, 14, 15, 16,\n",
      "       17, 18, 19, 20, 21, 22, 25, 28, 29]), \n",
      "array([23, 24, 26, 27]), {'max_iter': 1000, 'tol': 0.0001}, is_classif=True, debias=False, eps=0.001, screening_percentile=11.41809931113089, n_alphas=10, key=(0, 6), verbose=1)\n"
     ]
    },
    {
     "name": "stderr",
     "output_type": "stream",
     "text": [
      "/Users/Nikola/anaconda/envs/mne/lib/python3.5/site-packages/sklearn/utils/deprecation.py:75: DeprecationWarning: Function center_data is deprecated; center_data was deprecated in version 0.18 and will be removed in 0.20. Use utilities in preprocessing.data instead\n",
      "  warnings.warn(msg, category=DeprecationWarning)\n",
      ".........."
     ]
    }
   ],
   "source": [
    "# Fit the SpaceNet and predict with it\n",
    "from nilearn.decoding import SpaceNetClassifier\n",
    "\n",
    "# Fit model on train data and predict on test data\n",
    "decoder = SpaceNetClassifier(memory=\"nilearn_cache\", penalty='tv-l1', memory_level=2)\n",
    "decoder.fit(images_train, group_train)  # fit\n",
    "y_pred = decoder.predict(images_test) # predict\n",
    "accuracy = (y_pred == group_test).mean() * 100.\n",
    "print(\"tv-l1 classification accuracy : %g%%\" % accuracy)"
   ]
  },
  {
   "cell_type": "code",
   "execution_count": null,
   "metadata": {
    "collapsed": false
   },
   "outputs": [],
   "source": [
    "# Visualization of Graph-net weights\n",
    "from nilearn import plotting\n",
    "from nilearn.plotting import plot_stat_map, show\n",
    "\n",
    "coef_img = decoder.coef_img_\n",
    "plot_stat_map(coef_img, title=\"graph-net: accuracy %g%%\" % accuracy, cut_coords=(-52, -5), display_mode=\"yz\")\n",
    "\n",
    "plotting.plot_glass_brain(\n",
    "    coef_img, title='plot_glass_brain',\n",
    "    black_bg=True, threshold=3)\n",
    "\n",
    "# Save the coefficients to a nifti file\n",
    "coef_img.to_filename('MD_testday2_tv-11_weights.nii')"
   ]
  }
 ],
 "metadata": {
  "kernelspec": {
   "display_name": "Python 3",
   "language": "python",
   "name": "python3"
  },
  "language_info": {
   "codemirror_mode": {
    "name": "ipython",
    "version": 3
   },
   "file_extension": ".py",
   "mimetype": "text/x-python",
   "name": "python",
   "nbconvert_exporter": "python",
   "pygments_lexer": "ipython3",
   "version": "3.5.2"
  }
 },
 "nbformat": 4,
 "nbformat_minor": 2
}
